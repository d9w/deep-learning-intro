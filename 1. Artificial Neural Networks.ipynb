{
 "cells": [
  {
   "cell_type": "markdown",
   "metadata": {
    "slideshow": {
     "slide_type": "slide"
    }
   },
   "source": [
    "# Artificial Neural Networks\n",
    "\n",
    "<a rel=\"license\" href=\"http://creativecommons.org/licenses/by-nc-sa/4.0/\"><img alt=\"Creative Commons License\" align=\"left\" src=\"https://i.creativecommons.org/l/by-nc-sa/4.0/80x15.png\" /></a>&nbsp;| [Dennis G. Wilson](http://d9w.github.io/) | <a href=\"https://d9w.github.io/deep-learning-intro/\">https://d9w.github.io/deep-learning-intro/</a><br>Based on the Supaero Data Science Deep Learning class: https://supaerodatascience.github.io/deep-learning/"
   ]
  },
  {
   "cell_type": "markdown",
   "metadata": {
    "slideshow": {
     "slide_type": "slide"
    }
   },
   "source": [
    "# Biological neural networks"
   ]
  },
  {
   "cell_type": "markdown",
   "metadata": {
    "slideshow": {
     "slide_type": "fragment"
    }
   },
   "source": [
    "Biological neurons are the base component of the nervous system and brain. Neurons are composed of a soma, the main cell body, which transmits signals through electrical impulses which travel down the axon into the dendrites of other neurons. Electrical signals from other neurons, received on the dendrites, build up a charge on the neural membrane and once this charge passes a certain limit, the neuron fires or spikes, sending a signal through its axon. While there are other forms of intracellular communication in the nervous system such as chemical neurotransmitters, electrical impulses or \"spiking\" are the main form of communication for most neurons."
   ]
  },
  {
   "cell_type": "markdown",
   "metadata": {
    "slideshow": {
     "slide_type": "slide"
    }
   },
   "source": [
    "<img src=\"img/neuron_bio.png\" width=\"600px\"></img>\n",
    "A model of a typical neuron."
   ]
  },
  {
   "cell_type": "markdown",
   "metadata": {
    "slideshow": {
     "slide_type": "slide"
    }
   },
   "source": [
    "<img src=\"img/pyramidal_cells.png\" width=\"600px\"></img>\n",
    "Pyramidal neurons in the cerebral cortex. This type of neuron is the main inspiration for cognitive models and artificial neural networks. Image source: Elston, Guy N. \"Cortex, cognition and the cell: new insights into the pyramidal neuron and prefrontal function.\" Cerebral cortex 13.11 (2003): 1124-1138."
   ]
  },
  {
   "cell_type": "markdown",
   "metadata": {
    "slideshow": {
     "slide_type": "slide"
    }
   },
   "source": [
    "# Artificial Neurons"
   ]
  },
  {
   "cell_type": "markdown",
   "metadata": {
    "slideshow": {
     "slide_type": "fragment"
    }
   },
   "source": [
    "The human brain processes information efficiently, can we design an artificial computing method that mimics it?"
   ]
  },
  {
   "cell_type": "markdown",
   "metadata": {
    "slideshow": {
     "slide_type": "fragment"
    }
   },
   "source": [
    "Let's take inspiration from the biological neuron for that and make a simplified model of a neuron. Suppose an input signal in the form of a binary vector $x$. The elements of $x$ can indicate binary statements which are true or false, such as \"it's raining\" or \"I have an umbrella\". We will model the *activation* of a neuron as:\n",
    "$$f(x)=\\left\\{\\begin{array}{ll} 0 & \\textrm{if }w^T x+b\\leq 0 \\\\ 1 & \\textrm{otherwise}\\end{array}\\right.=step\\left(w^Tx + b\\right),$$\n",
    "where $step$ is Heaviside's step function. This simulates the firing of a neuron; 1 if it fires, 0 otherwise."
   ]
  },
  {
   "cell_type": "markdown",
   "metadata": {
    "slideshow": {
     "slide_type": "slide"
    }
   },
   "source": [
    "This model is known as the Perceptron and was introduced in the 1950s:\n",
    "\n",
    "Rosenblatt, Frank. \"The perceptron: a probabilistic model for information storage and organization in the brain.\" Psychological review 65.6 (1958): 386. [pdf](http://www.cs.cmu.edu/~epxing/Class/10715-14f/reading/Rosenblatt.perceptron.pdf)"
   ]
  },
  {
   "cell_type": "markdown",
   "metadata": {
    "slideshow": {
     "slide_type": "fragment"
    }
   },
   "source": [
    "<img src=\"img/perceptron.png\" width=\"60%\" height=\"auto\">"
   ]
  },
  {
   "cell_type": "markdown",
   "metadata": {
    "slideshow": {
     "slide_type": "slide"
    }
   },
   "source": [
    "Using this model and specific parameters ($w$ and $b$), we can make logic gates allowing for the construction of a circuit. We'll use 2 binary inputs and check all combinations."
   ]
  },
  {
   "cell_type": "code",
   "execution_count": 3,
   "metadata": {
    "slideshow": {
     "slide_type": "fragment"
    }
   },
   "outputs": [
    {
     "data": {
      "text/plain": [
       "array([[0., 0.],\n",
       "       [0., 1.],\n",
       "       [1., 0.],\n",
       "       [1., 1.]])"
      ]
     },
     "execution_count": 3,
     "metadata": {},
     "output_type": "execute_result"
    }
   ],
   "source": [
    "import itertools\n",
    "import numpy as np\n",
    "\n",
    "lst = list(itertools.product([0., 1.], repeat=2))\n",
    "x = np.array(lst)\n",
    "x"
   ]
  },
  {
   "cell_type": "code",
   "execution_count": 4,
   "metadata": {
    "slideshow": {
     "slide_type": "slide"
    }
   },
   "outputs": [],
   "source": [
    "def perceptron(w, b, x):\n",
    "    return np.heaviside(np.dot(x, w) + b, 0)"
   ]
  },
  {
   "cell_type": "markdown",
   "metadata": {
    "slideshow": {
     "slide_type": "subslide"
    }
   },
   "source": [
    "<div class=\"alert alert-warning\">\n",
    "    \n",
    "**Exercice: Back to the future, logical gates.** <br>\n",
    "Take Rosenblatt's perceptron and find the parameters (weights and bias) that correspond to AND, OR and NAND gates for two binary inputs.</div>"
   ]
  },
  {
   "cell_type": "markdown",
   "metadata": {
    "slideshow": {
     "slide_type": "slide"
    }
   },
   "source": [
    "<div class=\"alert alert-info\">\n",
    "Rosenblatt's perceptron is the function $step(w_1 x_1 + w_2 x_2 +b)$. \n",
    "\n",
    "With $(w_1, w_2, b) = (2, 2, -1)$ we get an OR gate. \n",
    "\n",
    "With $(w_1, w_2, b) = (1, 1, -1)$ we get an AND gate. \n",
    "\n",
    "With $(w_1, w_2, b) = (-1, -1, 2)$ we get a NAND gate.\n",
    "</div>"
   ]
  },
  {
   "cell_type": "code",
   "execution_count": 299,
   "metadata": {
    "slideshow": {
     "slide_type": "subslide"
    }
   },
   "outputs": [
    {
     "name": "stdout",
     "output_type": "stream",
     "text": [
      "inputs:  [[0. 0.]\n",
      " [0. 1.]\n",
      " [1. 0.]\n",
      " [1. 1.]]\n"
     ]
    },
    {
     "data": {
      "text/plain": [
       "array([1., 1., 1., 0.])"
      ]
     },
     "execution_count": 299,
     "metadata": {},
     "output_type": "execute_result"
    }
   ],
   "source": [
    "w = [-1., -1.]\n",
    "b = 2.\n",
    "print(\"inputs: \", x)\n",
    "perceptron(w, b, x)"
   ]
  },
  {
   "cell_type": "markdown",
   "metadata": {
    "slideshow": {
     "slide_type": "slide"
    }
   },
   "source": [
    "<div class=\"alert alert-warning\">\n",
    "    \n",
    "**Exercice: Back to the future, the XOR affair.** <br> \n",
    "Does it seem possible to describe a XOR gate with a perceptron? Building a XOR function can be seen as a classification problem; what is the family of classification problems that can be tackled by perpectrons (hint: recall the beginning of the SVM class)?</div>"
   ]
  },
  {
   "cell_type": "markdown",
   "metadata": {
    "slideshow": {
     "slide_type": "subslide"
    }
   },
   "source": [
    "<div class=\"alert alert-info\">\n",
    "No, it is actually not possible to model a XOR gate with a perceptron. Since perceptrons implement a threshold on a linear combination of the inputs, they can only separate (shatter, in VC theory) classes that are... linearly separable. XOR is a typical example of non-linearly separable data.\n",
    "</div>"
   ]
  },
  {
   "cell_type": "markdown",
   "metadata": {
    "slideshow": {
     "slide_type": "slide"
    }
   },
   "source": [
    "# Artificial Neural Networks"
   ]
  },
  {
   "cell_type": "markdown",
   "metadata": {
    "slideshow": {
     "slide_type": "slide"
    }
   },
   "source": [
    "It is possible to connect perceptrons together to get a XOR function (for example by remarking that $x_1$ XOR $x_2$ = $(x_1$ OR $x_2)$ AND $(x_1$ NAND $x_2)$). It is actually possible to do so for any logical function. Such connected architectures are called Multi-Layer Perceptrons (MLP). This term was later used for multi-layered networks of artifical neurons, regardless of their activation functions. The modern term for multiple networks connected in a graph is an Artificial Neural Network."
   ]
  },
  {
   "cell_type": "markdown",
   "metadata": {
    "slideshow": {
     "slide_type": "fragment"
    }
   },
   "source": [
    "<img src=\"./img/xor.png\" width=\"600px\"></img>"
   ]
  },
  {
   "cell_type": "code",
   "execution_count": 190,
   "metadata": {
    "slideshow": {
     "slide_type": "slide"
    }
   },
   "outputs": [
    {
     "name": "stdout",
     "output_type": "stream",
     "text": [
      "input values:\n",
      " [[0. 0.]\n",
      " [0. 1.]\n",
      " [1. 0.]\n",
      " [1. 1.]]\n",
      "testing XOR gate: [0. 1. 1. 0.]\n",
      "XOR: [False  True  True False]\n"
     ]
    }
   ],
   "source": [
    "def XOR(x):\n",
    "    y1 = perceptron([2., 2.], -1, x) # OR\n",
    "    y2 = perceptron([-2, -2], 3, x) # NAND\n",
    "    y = np.array([y1,y2]).T\n",
    "    z = perceptron([2., 2.], -3, y) # AND\n",
    "    return z\n",
    "print(\"input values:\\n\", x)\n",
    "print(\"testing XOR gate:\", XOR(x))\n",
    "print(\"XOR:\", np.logical_xor(x[:,0], x[:,1]))"
   ]
  },
  {
   "cell_type": "markdown",
   "metadata": {},
   "source": [
    "As a consequence, any logical circuit can be represented as an MLP. **This seems a great ground for computer-based intelligence!**\n",
    "\n",
    "Now the question is \"how does one find (learn) the structure and weights of a neural network that seems intelligent?\". That's what we'll see in the [next notebook](https://github.com/d9w/deep-learning-intro/blob/main/2.%20Training%20ANNs.ipynb), but let's explore artificial neural networks a bit more first."
   ]
  },
  {
   "cell_type": "markdown",
   "metadata": {},
   "source": [
    "# Universal Approximation with ANNs"
   ]
  },
  {
   "cell_type": "markdown",
   "metadata": {},
   "source": [
    "So far, we have considered a drastic \"0 or 1\" activation for a certain neuron. Suppose now that the input $x$ is not binary anymore: it is made of continuous variables, like a temperature, or a user preference. Then, when processing an input $x$, either the neuron's stimulation $w^Tx$ is above $-b$ or it is below. This makes the output of a neuron very sensitive to noise in the input, or to errors in setting the weights. Conversely, we could wish for a function that is *S-shaped* and that transitions smoothly from 0 to 1.\n",
    "\n",
    "An example of such a function is the sigmoid function:\n",
    "$$\\sigma(x) = \\frac{1}{1 + e^{-x}}$$"
   ]
  },
  {
   "cell_type": "code",
   "execution_count": 195,
   "metadata": {
    "slideshow": {
     "slide_type": "slide"
    }
   },
   "outputs": [],
   "source": [
    "def sigmoid(x):\n",
    "    return 1./(1. + np.exp(-x))"
   ]
  },
  {
   "cell_type": "code",
   "execution_count": 196,
   "metadata": {
    "slideshow": {
     "slide_type": "fragment"
    }
   },
   "outputs": [
    {
     "data": {
      "image/png": "[encoded data removed]",
      "text/plain": [
       "<Figure size 432x288 with 1 Axes>"
      ]
     },
     "metadata": {
      "needs_background": "light"
     },
     "output_type": "display_data"
    }
   ],
   "source": [
    "import matplotlib.pyplot as plt\n",
    "XX = np.arange(-10.,10.,0.1)\n",
    "plt.plot(XX,sigmoid(XX));"
   ]
  },
  {
   "cell_type": "markdown",
   "metadata": {},
   "source": [
    "The sigmoid activation is far from the only activation function used in modern ANNs. Here are a few others:\n",
    "\n",
    "- step\n",
    "$$\\sigma(x) = 0 \\textrm{ if }x\\leq0\\textrm{, }1\\textrm{ otherwise}$$\n",
    "- linear\n",
    "$$\\sigma(x) = x$$\n",
    "- Rectified linear (ReLU)\n",
    "$$\\sigma(x) = \\max(0, x)$$\n",
    "- hyperbolic tangent\n",
    "$$\\sigma(x) = \\frac{e^{x} + e^{-x}}{e^{x} - e^{-x}}$$\n",
    "- radial basis function\n",
    "$$\\sigma(x) = e^{-x^2}$$"
   ]
  },
  {
   "cell_type": "markdown",
   "metadata": {},
   "source": [
    "We'll use the sigmoid activation to illustrative an important property of artificial neural networks: the universal approximation property. In general terms, the universal approximation theorem demonstrates that a neural network can approximate any function. While there are many proofs concerning neural networks and universality, we'll focus on an illustrative example."
   ]
  },
  {
   "cell_type": "markdown",
   "metadata": {},
   "source": [
    "Consider a neural network with two neurons:\n",
    "\n",
    "<img src=\"img/simplenet.png\" width=\"20%\">\n",
    "\n",
    "We will consider that the neurons use a sigmoid activation function."
   ]
  },
  {
   "cell_type": "code",
   "execution_count": 226,
   "metadata": {},
   "outputs": [],
   "source": [
    "def ANN(x, w, b):\n",
    "    y = sigmoid(np.dot(x, w[0].T) + b[0])\n",
    "    return np.dot(y, w[1].T) + b[1], y"
   ]
  },
  {
   "cell_type": "markdown",
   "metadata": {},
   "source": [
    "Using this network, we can combine multiple sigmoid functions which have different weights. For example, we can create an output which is a single bump by combining two opposing sigmoid functions."
   ]
  },
  {
   "cell_type": "code",
   "execution_count": 247,
   "metadata": {},
   "outputs": [
    {
     "data": {
      "image/png": "[encoded data removed]",
      "text/plain": [
       "<Figure size 432x288 with 1 Axes>"
      ]
     },
     "metadata": {
      "needs_background": "light"
     },
     "output_type": "display_data"
    }
   ],
   "source": [
    "weights = [np.array([[-1], [-2]]), np.array([[1, -1]])]\n",
    "biases = [np.array([2, 0]), np.array([0])]\n",
    "plt.plot(XX,[ANN(np.array([[i]]), weights, biases)[1][0] for i in XX], '--', label='hidden');\n",
    "plt.plot(XX,[ANN(np.array([[i]]), weights, biases)[0][0] for i in XX], c='k', label='output');\n",
    "plt.legend();"
   ]
  },
  {
   "cell_type": "markdown",
   "metadata": {},
   "source": [
    "By adding more neurons in the hidden layer, we can add a second bump. Again, the weights and biases of these additional neurons will determine the bump shape and placement."
   ]
  },
  {
   "cell_type": "code",
   "execution_count": 254,
   "metadata": {},
   "outputs": [
    {
     "data": {
      "image/png": "[encoded data removed]",
      "text/plain": [
       "<Figure size 432x288 with 1 Axes>"
      ]
     },
     "metadata": {
      "needs_background": "light"
     },
     "output_type": "display_data"
    }
   ],
   "source": [
    "weights = [np.array([[-5], [-5], [-5], [-5]]), np.array([[0.8, -1., 0.5, -0.3]])]\n",
    "biases = [np.array([10, 0, 40, 30]), np.array([0])]\n",
    "plt.plot(XX,[ANN(np.array([[i]]), weights, biases)[0][0] for i in XX]);"
   ]
  },
  {
   "cell_type": "markdown",
   "metadata": {},
   "source": [
    "By adding more neurons, we can approximate functions like `sin`."
   ]
  },
  {
   "cell_type": "code",
   "execution_count": 255,
   "metadata": {},
   "outputs": [
    {
     "name": "stdout",
     "output_type": "stream",
     "text": [
      "Mean Squared Error:  0.03595156085382894\n"
     ]
    },
    {
     "data": {
      "image/png": "[encoded data removed]",
      "text/plain": [
       "<Figure size 432x288 with 1 Axes>"
      ]
     },
     "metadata": {
      "needs_background": "light"
     },
     "output_type": "display_data"
    }
   ],
   "source": [
    "weights = [-5.*np.ones((8, 1)), np.array([[-1, 1, 1, -1, 1, -1, -1, 1]])]\n",
    "biases = [np.array([-60., -40., -25., -5., 25., 5., 60., 40.]), np.array([0])]\n",
    "outputs = np.array([ANN(np.array([[i]]), weights, biases)[0][0] for i in XX])\n",
    "plt.plot(XX,outputs);\n",
    "plt.plot(XX,np.sin(0.5*XX), 'r');\n",
    "print(\"Mean Squared Error: \", np.mean((outputs.flatten() - np.sin(0.5*XX))**2))"
   ]
  },
  {
   "cell_type": "markdown",
   "metadata": {},
   "source": [
    "The more neurons added, the better our approximation can become. As we'll see later, adding more and more neurons to a single layer isn't how deep learning ANNs are structured, but it is important to understand that a single layer of neurons can, given enough neurons, approximate any continuous function."
   ]
  },
  {
   "cell_type": "markdown",
   "metadata": {},
   "source": [
    "# Propagating values through a network\n",
    "\n",
    "Let's define a neural network that has the following structure:\n",
    "- 2 input neurons\n",
    "- first hidden layer with 4 sigmoid neurons\n",
    "- second hidden layer with 3 sigmoid neurons\n",
    "- one output layer with an identity neuron\n",
    "\n",
    "<img src=\"img/nn2.png\" width=\"600px\"></img>"
   ]
  },
  {
   "cell_type": "code",
   "execution_count": 269,
   "metadata": {},
   "outputs": [],
   "source": [
    "sizes = [2,4,3,1]\n",
    "num_layers = len(sizes)"
   ]
  },
  {
   "cell_type": "markdown",
   "metadata": {
    "slideshow": {
     "slide_type": "slide"
    }
   },
   "source": [
    "We will use random weights for the network, specificially we will choose weights and biases following a $\\mathcal{N}(0,1)$ distribution."
   ]
  },
  {
   "cell_type": "code",
   "execution_count": 295,
   "metadata": {
    "slideshow": {
     "slide_type": "fragment"
    }
   },
   "outputs": [
    {
     "data": {
      "text/plain": [
       "([array([[-1.209977  ,  0.11836933],\n",
       "         [-0.44962416,  1.3951661 ],\n",
       "         [ 0.45916296, -0.93768859],\n",
       "         [ 0.42315196,  0.82668442]]),\n",
       "  array([[ 0.13572595, -0.32215722, -2.44051641, -0.01217065],\n",
       "         [-1.30984466, -1.36506322,  1.77214407, -0.04627609],\n",
       "         [-0.07566084, -2.29835341,  1.30415112,  1.26038033]]),\n",
       "  array([[ 0.14290152,  0.72050686, -0.02444211]])],\n",
       " [array([[-0.81851719,  0.95278023, -0.05300707,  0.83873211]]),\n",
       "  array([[0.32500246, 0.19380375, 0.84279826]]),\n",
       "  array([[0.15133057]])])"
      ]
     },
     "execution_count": 295,
     "metadata": {},
     "output_type": "execute_result"
    }
   ],
   "source": [
    "biases = [np.random.randn(1,y) for y in sizes[1:]]\n",
    "weights = [np.random.randn(out,inp) for inp,out in zip(sizes[:-1],sizes[1:])]\n",
    "weights, biases"
   ]
  },
  {
   "cell_type": "markdown",
   "metadata": {
    "slideshow": {
     "slide_type": "slide"
    }
   },
   "source": [
    "<div class=\"alert alert-warning\">\n",
    "    \n",
    "**Exercice:**<br>\n",
    "Write a function that computes the forward propagation of the input $x=[0,1]$ through the network and returns the outputs and all intermediate activations.\n",
    "</div>"
   ]
  },
  {
   "cell_type": "code",
   "execution_count": 280,
   "metadata": {
    "slideshow": {
     "slide_type": "slide"
    }
   },
   "outputs": [],
   "source": [
    "def forward_pass(x, weights, biases, verbose=False):\n",
    "    y = [np.zeros((x.shape[0], sz)) for sz in sizes]\n",
    "    y[0] = x.copy()\n",
    "    for i in range(1,len(sizes)):\n",
    "        if verbose:\n",
    "            print(\"# Forward propagation to layer\", i)\n",
    "        inputs = np.dot(y[i-1],weights[i-1].T) + biases[i-1]\n",
    "        if verbose:\n",
    "            print(\"Neuron inputs:\", inputs)\n",
    "        if i == len(sizes)-1:\n",
    "            y[i] = inputs # final identity neuron\n",
    "        else:\n",
    "            y[i] = sigmoid(inputs)\n",
    "        if verbose:\n",
    "            print(\"Layer outputs:\", y[i])\n",
    "    return y"
   ]
  },
  {
   "cell_type": "code",
   "execution_count": 296,
   "metadata": {
    "slideshow": {
     "slide_type": "slide"
    }
   },
   "outputs": [
    {
     "name": "stdout",
     "output_type": "stream",
     "text": [
      "# Forward propagation to layer 1\n",
      "Neuron inputs: [[-0.70014786  2.34794633 -0.99069566  1.66541653]]\n",
      "Layer outputs: [[0.33177945 0.91277085 0.27077469 0.84096377]]\n",
      "# Forward propagation to layer 2\n",
      "Neuron inputs: [[-0.59508734 -1.04583045  0.13289087]]\n",
      "Layer outputs: [[0.35546844 0.26002657 0.53317391]]\n",
      "# Forward propagation to layer 3\n",
      "Neuron inputs: [[0.37644659]]\n",
      "Layer outputs: [[0.37644659]]\n"
     ]
    }
   ],
   "source": [
    "y = forward_pass(np.array([[0,1]]), weights, biases, verbose=True)"
   ]
  },
  {
   "cell_type": "markdown",
   "metadata": {
    "slideshow": {
     "slide_type": "slide"
    }
   },
   "source": [
    "By re-initializing the weights and biases, we can see how the output of the neural network depends on these parameters. In the next notebook, we'll learn how to train these parameters to match a target distribution."
   ]
  },
  {
   "cell_type": "code",
   "execution_count": null,
   "metadata": {},
   "outputs": [],
   "source": []
  }
 ],
 "metadata": {
  "@webio": {
   "lastCommId": null,
   "lastKernelId": null
  },
  "kernelspec": {
   "display_name": "Python 3",
   "language": "python",
   "name": "python3"
  },
  "language_info": {
   "codemirror_mode": {
    "name": "ipython",
    "version": 3
   },
   "file_extension": ".py",
   "mimetype": "text/x-python",
   "name": "python",
   "nbconvert_exporter": "python",
   "pygments_lexer": "ipython3",
   "version": "3.8.7"
  },
  "toc": {
   "base_numbering": 1,
   "nav_menu": {},
   "number_sections": true,
   "sideBar": true,
   "skip_h1_title": false,
   "title_cell": "Table of Contents",
   "title_sidebar": "Contents",
   "toc_cell": false,
   "toc_position": {
    "height": "calc(100% - 180px)",
    "left": "10px",
    "top": "150px",
    "width": "165px"
   },
   "toc_section_display": true,
   "toc_window_display": true
  }
 },
 "nbformat": 4,
 "nbformat_minor": 2
}
